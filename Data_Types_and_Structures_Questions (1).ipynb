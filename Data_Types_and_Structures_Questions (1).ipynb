{
  "nbformat": 4,
  "nbformat_minor": 0,
  "metadata": {
    "colab": {
      "provenance": [],
      "toc_visible": true
    },
    "kernelspec": {
      "name": "python3",
      "display_name": "Python 3"
    },
    "language_info": {
      "name": "python"
    }
  },
  "cells": [
    {
      "cell_type": "markdown",
      "source": [
        "# Data Types And Structures Questions\n"
      ],
      "metadata": {
        "id": "ICKrOHywrOwz"
      }
    },
    {
      "cell_type": "markdown",
      "source": [
        "1. What are data structures, and why are they important?\n",
        "-> A data structure is a way of organizing, storing, and managing data so that\n",
        "   it can be used efficently. It defines the relationship between data and the operations that can be performed on it.\n",
        "\n",
        "   i. Efficiency: Choosing the right data structure can significantly speed up\n",
        "      algorithms.\n",
        "\n",
        "   ii. Organization: Data structures help keep data organized in a way that\n",
        "      makes it easier to process.\n",
        "\n",
        "   iii. Resource Management: By selecting an appropriate data structure,\n",
        "        memory and storage are used more effectively, making programs run     faster and more efficiently.\n",
        "\n",
        "   iv. Problem-Solving Many algorithms rely on specific data structures to\n",
        "       perform their tasks.\n",
        "\n",
        "2. Explain the difference between mutable and immutable data types with  \n",
        "   examples?\n",
        "-> Mutable Data Types = It is one whose value or state can be changed after it\n",
        "   is created. In other words, the data structure or object can be modified.\n",
        "\n",
        "  Examples :- Lists , Dictionaries, Sets,\n",
        "\n",
        "-> Immutable Data Types = It is one whose value cannot be changed after it is\n",
        "   created. If you try to modify an immutable object, it will result in a new being created intead of modifying.\n",
        "\n",
        "   Examples :- Strings, Tuples, Frozensets\n",
        "\n",
        "\n",
        " 3. What are the main difference between lists and tuples in Python?\n",
        "\n",
        "  -> Lists are mutable, allowing changes to their contents (add, remove,\n",
        "     modify), while tuples are immutable, meaning their contents cannot be changed after creation. List use brackets [] , and tuples use parentheses ()   \n",
        "       \n",
        " 4. Describe how dictionaries store data?\n",
        "\n",
        "  -> Dictionaries store key-value using a hash table, wgere keys are hased to\n",
        "     determine their storage location. if multiple keys hash to the same index (collision), Pyhton Resolves it using probing or linked lists. When the dictionary grows, it dynamically resizes and re-hashes keys for efficiency.  \n",
        "\n",
        " 5. Why minght you use a set intead of a list in Pyhton?\n",
        "\n",
        "  -> 1. Fast lookups- checking for membership (x in set ) is O(1) on average,\n",
        "       while lists take O(n).\n",
        "     2. Uniquenes- Sets automatically remove duplicates, while lists allow them.\n",
        "     3. Efficent Set Operations - Opertaions like unions, intersections,and\n",
        "        differences are optimized in sets but require looping in lists.\n",
        "\n",
        " 6. What is a string in Pyhton, and how it is different from a list?\n",
        "\n",
        "  -> A string is an immutable sequence of characters, while a list is mutable\n",
        "     and can store any data type. Strings support text- specific methods ( .upper() , .split() ), whereas list have methods like .append() and .remove() . Strings are accesses character, while lists hold multiple elements. Use strings for text and lists for collections that need modification.\n",
        "\n",
        " 7. How do tuples ensure data integrity in Python?\n",
        "   \n",
        "   -> Tuples ensure data integrity by being immutable, preventing accidental\n",
        "      modifications. They are useful for storing fixed data like configurations or database records. Their hashability also allows them to be used as dictionary keys and set elements.\n",
        "\n",
        " 8. What is a hash table, and how does it relate to dictionaries in Python?\n",
        "\n",
        "   -> A hash table is a data structure that maps keys to values using a hash\n",
        "     function for fast lookups. Pyhton dictionaries use hash tables, enabling efficient O(1) insetions, deletions, and searches.\n",
        "\n",
        " 9. Can lists conatin different data types in Python?\n",
        "\n",
        "   -> Yes, list in Python can contain different data types, including, strings,\n",
        "     floats, booleans and even other list or objects. This flexibility makes lists versatile for storing mixed data in a single collection.\n",
        "\n",
        " 10. Explain why strings are immutable in Pyhton?\n",
        "\n",
        "  -> Strings in Pyhton are immutable to enhance performance, security, and\n",
        "     hashability for use in dictionaries. This prevents unintended modifications and allows safe sharing across different parts of a program.\n",
        "\n",
        " 11. What advantages do dictionaries after over lists for certain tasks?\n",
        "\n",
        "  -> Dcitionaries offer faster lookups ( o(1)) compared to lists (o(n)) for\n",
        "     searching elements by key. They store key- value pairs, making them ideal for mapping relationships(e.g., storing user data).\n",
        "\n",
        " 12. Describe a scenario where using a tuple would be preferable over a list.\n",
        "\n",
        "  -> A tuple is preferable over a list when storing fixed data that should not\n",
        "     change. For examples, tuples are ideal for storing database records like (user_id, name, age), ensuring data integrity. They are also useful as dictionary keys since they are hashable, unlike lists.\n",
        "\n",
        " 13. How do sets handles duplicate values in Pyhton?\n",
        "\n",
        "  -> Sets in Python automatically remove duplicates values, ensuring each\n",
        "     element is unique. When adding elements, Pyhton uses a hash table to check for existing values, preventing duplicates from being stored.\n",
        "\n",
        " 14. How does the \"in\" keyword work differently for lists and dictionaries?\n",
        "\n",
        "   -> In lists, it performs a linesar search (O(n)) to check if a values exists.\n",
        "      In dictionaries, it checks for keys only, using a hash table for fast lookups (O(1)).\n",
        "\n",
        " 15. Can you modify the elements of a tuple? Explain why or why not.\n",
        "\n",
        "   -> No, you cannot modify the elements oa a tuple because tuples are  \n",
        "     immtuable in Pyhton. This means once created, their elemnts canoot be changed, added or removed. This design ensures data integrity, improves performanc, and allows tuples to be hashable for use as dictionary keys.\n",
        "\n",
        " 16. What is nested dictionary, and give an example of its use case?\n",
        "\n",
        "  -> A nested dictionary is a dictionary that contains another dictionary as a value. it is useful for storing hierarchical or structured data, like user profiles, product catalogs, or organizational data.\n",
        "\n",
        "   Example use case: Storing Student Records\n",
        "    students = {\n",
        "      \"Alice\": {\"age\": 20, \"grade: \"A\", \"subjects\": [\"Math\", \"Science\"]}\n",
        "      \"Bob\": {\"age\" : 22, \"grade\" \"B\", \"subjects\": [\"History\", \"English\"]}\n",
        "      }\n",
        "    print(student[\"alice\"][\"grade\"])\n",
        "\n",
        "   This structure allows easy access to related data efficiently.\n",
        "\n",
        " 17. Describe the time complexity of accessing elements in a dictionary.\n",
        "\n",
        "   -> Accessing elements in  a dictionary has an average time complexity of\n",
        "     O(1) because Python uses a hash table allowing direct key lookups. However, in the worst case , lookups can take O(n) it multiple keys map to the same hash index and require searching through bucket.\n",
        "\n",
        " 18. In what situations are lists preferred over dictionaries?\n",
        "  \n",
        "  -> Lists are preferred over dictionaries when\n",
        "\n",
        "      i.   Order Matters\n",
        "\n",
        "      ii.  Seqential Data\n",
        "\n",
        "      iii. Iteration is key\n",
        "\n",
        "      iv.  Memory Efficiency\n",
        "\n",
        " 19. Why are dictionaries considered unordered, and how does that affect data\n",
        "     retrieval?\n",
        "\n",
        "  -> Dicitonaries were considered unordered before Pyhton 3.7 because they used\n",
        "     hash tables, which did not gurantee key order. Since Pyhton 3.7+, dictionaries preserve insertion order, meaning items are retrieved in the order they were added. However, retrieval is still based on keys, not position, so you cannot access items by index like in lists.\n",
        "\n",
        " 20. Explain the difference between a list and a dictionary in terms of data\n",
        "     retrieval.\n",
        "\n",
        "  -> The key difference in data retrieval between a list and a dictionary is:\n",
        "\n",
        "     . Lists use index-based retrieval (O(1)) but searching for a specific  \n",
        "       value takes O(n) (linear search).\n",
        "\n",
        "     . Dictionaries use key-based retieval (O(1) on average, thanks to hash\n",
        "       tables, making lookups much faster when accessing values by key        \n",
        "\n",
        "\n"
      ],
      "metadata": {
        "id": "8S_CM96lr99H"
      }
    },
    {
      "cell_type": "markdown",
      "source": [
        "# Practical Questions\n",
        "\n",
        "\n",
        "\n"
      ],
      "metadata": {
        "id": "QuPqKgvL8oLf"
      }
    },
    {
      "cell_type": "code",
      "source": [
        " name = \"Ronak\"\n",
        " print(name)\n"
      ],
      "metadata": {
        "colab": {
          "base_uri": "https://localhost:8080/"
        },
        "id": "oRLYQFXd-reO",
        "outputId": "9bfd3c9e-428b-4ea4-d3ba-8bcaf28de0a9"
      },
      "execution_count": null,
      "outputs": [
        {
          "output_type": "stream",
          "name": "stdout",
          "text": [
            "Ronak\n"
          ]
        }
      ]
    },
    {
      "cell_type": "code",
      "source": [
        " string = \"Hello World\"\n",
        " length = len(string)\n",
        " print(\"Length of the string\", length)"
      ],
      "metadata": {
        "colab": {
          "base_uri": "https://localhost:8080/"
        },
        "id": "59MevypW_FkA",
        "outputId": "54cb81f6-8999-4ea7-bf66-47464e1e1fcc"
      },
      "execution_count": null,
      "outputs": [
        {
          "output_type": "stream",
          "name": "stdout",
          "text": [
            "Length of the string 11\n"
          ]
        }
      ]
    },
    {
      "cell_type": "code",
      "source": [
        " string = \"python programming\"\n",
        " sliced_string = string[:3]  #slicing the first 3 characters\n",
        " print(sliced_string)"
      ],
      "metadata": {
        "colab": {
          "base_uri": "https://localhost:8080/"
        },
        "id": "VAVcshblA6gt",
        "outputId": "ea010508-620b-42fc-a287-f3d6cfb43257"
      },
      "execution_count": null,
      "outputs": [
        {
          "output_type": "stream",
          "name": "stdout",
          "text": [
            "pyt\n"
          ]
        }
      ]
    },
    {
      "cell_type": "code",
      "source": [
        "string = \"hello\"\n",
        "print(string.capitalize())"
      ],
      "metadata": {
        "colab": {
          "base_uri": "https://localhost:8080/"
        },
        "id": "yxY0L2VsGmDB",
        "outputId": "1bdc088d-8d93-43eb-dde0-85369c17c2d0"
      },
      "execution_count": null,
      "outputs": [
        {
          "output_type": "stream",
          "name": "stdout",
          "text": [
            "Hello\n"
          ]
        }
      ]
    },
    {
      "cell_type": "code",
      "source": [
        " string = \"i like apple\"\n",
        " new_string = string.replace(\"apple\", \"orange\")\n",
        " print(new_string)"
      ],
      "metadata": {
        "colab": {
          "base_uri": "https://localhost:8080/"
        },
        "id": "ekJiPxtpHp1H",
        "outputId": "9cc59324-a62d-4371-ae2a-6abf7a4604e7"
      },
      "execution_count": null,
      "outputs": [
        {
          "output_type": "stream",
          "name": "stdout",
          "text": [
            "i like orange\n"
          ]
        }
      ]
    },
    {
      "cell_type": "code",
      "source": [
        "numbers = [1, 2, 3, 4, 5]\n",
        "print(numbers)"
      ],
      "metadata": {
        "colab": {
          "base_uri": "https://localhost:8080/"
        },
        "id": "l2UHm6X_KRXJ",
        "outputId": "b554dad3-c4d7-4b3f-efff-d03704dbd357"
      },
      "execution_count": null,
      "outputs": [
        {
          "output_type": "stream",
          "name": "stdout",
          "text": [
            "[1, 2, 3, 4, 5]\n"
          ]
        }
      ]
    },
    {
      "cell_type": "code",
      "source": [
        "numbers = [1, 2, 3 , 4, ]\n",
        "numbers.append(10)\n",
        "print(numbers)"
      ],
      "metadata": {
        "colab": {
          "base_uri": "https://localhost:8080/"
        },
        "id": "6tCaKDjTLrDR",
        "outputId": "27d57c77-204f-47a0-efb1-1de9030829b3"
      },
      "execution_count": null,
      "outputs": [
        {
          "output_type": "stream",
          "name": "stdout",
          "text": [
            "[1, 2, 3, 4, 10]\n"
          ]
        }
      ]
    },
    {
      "cell_type": "code",
      "source": [
        "numbers = [1, 2, 3, 4, 5]\n",
        "numbers.remove(3)\n",
        "print(numbers)"
      ],
      "metadata": {
        "colab": {
          "base_uri": "https://localhost:8080/"
        },
        "id": "8EclmbRBMOYr",
        "outputId": "d195e3e8-78a9-41e1-9747-7677f26908b3"
      },
      "execution_count": null,
      "outputs": [
        {
          "output_type": "stream",
          "name": "stdout",
          "text": [
            "[1, 2, 4, 5]\n"
          ]
        }
      ]
    },
    {
      "cell_type": "code",
      "source": [
        "letters = [\"a\", \"b\", \"c\", \"d\"]\n",
        "print(letters[1])"
      ],
      "metadata": {
        "colab": {
          "base_uri": "https://localhost:8080/"
        },
        "id": "5yacdJjHNmXh",
        "outputId": "ace8b737-7ec7-49e7-df01-8719d29ce4ea"
      },
      "execution_count": null,
      "outputs": [
        {
          "output_type": "stream",
          "name": "stdout",
          "text": [
            "b\n"
          ]
        }
      ]
    },
    {
      "cell_type": "code",
      "source": [
        "numbers = [10, 20, 30, 40, 50]\n",
        "numbers.reverse()\n",
        "print(numbers)"
      ],
      "metadata": {
        "colab": {
          "base_uri": "https://localhost:8080/"
        },
        "id": "YSqDeZH_N1yo",
        "outputId": "ab22b8dd-6570-46b8-a644-5a1b465380c6"
      },
      "execution_count": null,
      "outputs": [
        {
          "output_type": "stream",
          "name": "stdout",
          "text": [
            "[50, 40, 30, 20, 10]\n"
          ]
        }
      ]
    },
    {
      "cell_type": "code",
      "source": [
        "my_tuple = (100, 200, 300)\n",
        "print(my_tuple)"
      ],
      "metadata": {
        "colab": {
          "base_uri": "https://localhost:8080/"
        },
        "id": "VhwvTnY1PDiW",
        "outputId": "cd11f052-fbaf-4930-a392-ebfd8006a5b3"
      },
      "execution_count": null,
      "outputs": [
        {
          "output_type": "stream",
          "name": "stdout",
          "text": [
            "(100, 200, 300)\n"
          ]
        }
      ]
    },
    {
      "cell_type": "code",
      "source": [
        "colors = (\"red\", \"green\", \"blue\", \"yellow\")\n",
        "second_to_last = colors[-2]\n",
        "print(second_to_last)"
      ],
      "metadata": {
        "colab": {
          "base_uri": "https://localhost:8080/"
        },
        "id": "XhHhh3U1Pc-Z",
        "outputId": "44447996-2265-4293-9f41-228ce0a0d2a0"
      },
      "execution_count": null,
      "outputs": [
        {
          "output_type": "stream",
          "name": "stdout",
          "text": [
            "blue\n"
          ]
        }
      ]
    },
    {
      "cell_type": "code",
      "source": [
        "numbers = (10, 20, 5, 15)\n",
        "print(min(numbers))\n"
      ],
      "metadata": {
        "colab": {
          "base_uri": "https://localhost:8080/"
        },
        "id": "qpCm1JH0QUts",
        "outputId": "553fb811-125d-4293-94f6-477a699c0394"
      },
      "execution_count": null,
      "outputs": [
        {
          "output_type": "stream",
          "name": "stdout",
          "text": [
            "5\n"
          ]
        }
      ]
    },
    {
      "cell_type": "code",
      "source": [
        "animals = (\"dog\", \"cat\" , \"rabbit\")\n",
        "index_of_cat = animals.index(\"cat\")\n",
        "print(index_of_cat)"
      ],
      "metadata": {
        "colab": {
          "base_uri": "https://localhost:8080/"
        },
        "id": "87x07-CfQlQt",
        "outputId": "d2517cd4-a9eb-4c07-9bf4-834a421db762"
      },
      "execution_count": null,
      "outputs": [
        {
          "output_type": "stream",
          "name": "stdout",
          "text": [
            "1\n"
          ]
        }
      ]
    },
    {
      "cell_type": "code",
      "source": [
        "fruits = (\"apple\", \"banana\", \"cherry\")\n",
        "if \"kiwi\" in fruits:\n",
        "    print(\"Kiwi is in the tuple\")\n",
        "else:\n",
        "  print(\"Kiwi is not in the tuple\")"
      ],
      "metadata": {
        "colab": {
          "base_uri": "https://localhost:8080/"
        },
        "id": "u9Eqqj70SBPx",
        "outputId": "d2449e95-8ff2-4544-a2e2-28e8b6c3ac56"
      },
      "execution_count": null,
      "outputs": [
        {
          "output_type": "stream",
          "name": "stdout",
          "text": [
            "Kiwi is not in the tuple\n"
          ]
        }
      ]
    },
    {
      "cell_type": "code",
      "source": [
        "my_set = {'a', 'b', 'c'}\n",
        "print(my_set)"
      ],
      "metadata": {
        "colab": {
          "base_uri": "https://localhost:8080/"
        },
        "id": "1OfM8E0oSvj-",
        "outputId": "fa23b1ea-20cd-4f68-acf4-717b68b52f73"
      },
      "execution_count": null,
      "outputs": [
        {
          "output_type": "stream",
          "name": "stdout",
          "text": [
            "{'a', 'c', 'b'}\n"
          ]
        }
      ]
    },
    {
      "cell_type": "code",
      "source": [
        "my_set = {1, 2, 3, 4, 5}\n",
        "my_set.clear()\n",
        "print(my_set)"
      ],
      "metadata": {
        "colab": {
          "base_uri": "https://localhost:8080/"
        },
        "id": "W2NyyK9pTEE3",
        "outputId": "2cc91b0a-7b4e-41d3-b85c-62b2976cb4fe"
      },
      "execution_count": null,
      "outputs": [
        {
          "output_type": "stream",
          "name": "stdout",
          "text": [
            "set()\n"
          ]
        }
      ]
    },
    {
      "cell_type": "code",
      "source": [
        "my_set = {1, 2, 3, 4}\n",
        "my_set.remove(4)\n",
        "print(my_set)"
      ],
      "metadata": {
        "colab": {
          "base_uri": "https://localhost:8080/"
        },
        "id": "P-uiNsujUOii",
        "outputId": "4b60f298-10bc-4224-9061-44ec781e4d44"
      },
      "execution_count": null,
      "outputs": [
        {
          "output_type": "stream",
          "name": "stdout",
          "text": [
            "{1, 2, 3}\n"
          ]
        }
      ]
    },
    {
      "cell_type": "code",
      "source": [
        "set1 = {1, 2, 3}\n",
        "set2 = {3, 4, 5}\n",
        "union_set = set1.union(set2)\n",
        "print(union_set)"
      ],
      "metadata": {
        "colab": {
          "base_uri": "https://localhost:8080/"
        },
        "id": "wBjt2KSnUjwk",
        "outputId": "8e7ff157-f879-46ea-a8e8-5f530006fc51"
      },
      "execution_count": null,
      "outputs": [
        {
          "output_type": "stream",
          "name": "stdout",
          "text": [
            "{1, 2, 3, 4, 5}\n"
          ]
        }
      ]
    },
    {
      "cell_type": "code",
      "source": [
        "set1 = {1, 2, 3,}\n",
        "set2 = {2, 3, 4,}\n",
        "intersection_set = set1.intersection(set2)\n",
        "print(intersection_set)"
      ],
      "metadata": {
        "colab": {
          "base_uri": "https://localhost:8080/"
        },
        "id": "6eJYXue0VWlD",
        "outputId": "bc5f2530-1bad-438f-e114-37c861096a82"
      },
      "execution_count": null,
      "outputs": [
        {
          "output_type": "stream",
          "name": "stdout",
          "text": [
            "{2, 3}\n"
          ]
        }
      ]
    },
    {
      "cell_type": "code",
      "source": [
        "person = {\"name\": \"Ronak\", \"age\":\"22\", \"city\": \"kolkata\"}\n",
        "print(person)"
      ],
      "metadata": {
        "colab": {
          "base_uri": "https://localhost:8080/"
        },
        "id": "NUDuQZSrVnPQ",
        "outputId": "ae5cef3a-c72f-415d-88d0-bf6a4b8efd7f"
      },
      "execution_count": null,
      "outputs": [
        {
          "output_type": "stream",
          "name": "stdout",
          "text": [
            "{'name': 'Ronak', 'age': '22', 'city': 'kolkata'}\n"
          ]
        }
      ]
    },
    {
      "cell_type": "code",
      "source": [
        "person = {\"name\": \"John\", \"age\":\"25\"}\n",
        "#adding a new key-value pair\n",
        "person[\"city\"] = \"USA\"\n",
        "print(person)"
      ],
      "metadata": {
        "colab": {
          "base_uri": "https://localhost:8080/"
        },
        "id": "m3V2EekhXYfX",
        "outputId": "9be4e244-4c71-4f10-c0dc-39417982c38e"
      },
      "execution_count": null,
      "outputs": [
        {
          "output_type": "stream",
          "name": "stdout",
          "text": [
            "{'name': 'John', 'age': '25', 'city': 'USA'}\n"
          ]
        }
      ]
    },
    {
      "cell_type": "code",
      "source": [
        "person = {'name': 'Bob', 'age': 22, 'city': 'New York'}\n",
        "#removing the key \"age\"\n",
        "person.pop(\"age\")\n",
        "print(person)\n"
      ],
      "metadata": {
        "colab": {
          "base_uri": "https://localhost:8080/"
        },
        "id": "o-pamqYwZsLE",
        "outputId": "567bba74-89d2-4246-8246-6efcfd32cd35"
      },
      "execution_count": null,
      "outputs": [
        {
          "output_type": "stream",
          "name": "stdout",
          "text": [
            "{'name': 'Bob', 'city': 'New York'}\n"
          ]
        }
      ]
    },
    {
      "cell_type": "code",
      "source": [
        "person = {'name': 'Alice', 'city': 'Paris'}\n",
        "person = {'name': 'Alice', 'city': 'Paris'}\n",
        "if \"city\" in person:\n",
        "  print(\"key 'city' exist in the dictionary\")\n",
        "else:\n",
        "  print(\"key 'city' does not exist in the dictionary\")"
      ],
      "metadata": {
        "colab": {
          "base_uri": "https://localhost:8080/"
        },
        "id": "Dt5TqYoNcjpC",
        "outputId": "0d05c7a8-d919-4415-c7e9-3590f15bfb74"
      },
      "execution_count": 69,
      "outputs": [
        {
          "output_type": "stream",
          "name": "stdout",
          "text": [
            "key 'city' exist in the dictionary\n"
          ]
        }
      ]
    },
    {
      "cell_type": "code",
      "source": [
        "my_list = [1, 2, 3, 4, 5]\n",
        "my_tuple = (10, 20, 30, 40, 50)\n",
        "my_dict = {\"name\": \"Alice\", \"age\": \"25\", \"city\": \"New York\"}\n",
        "print(\"list:\", my_list)\n",
        "print(\"tuple:\", my_tuple)\n",
        "print(\"dictionary:\", my_dict)"
      ],
      "metadata": {
        "id": "qz6nCxZLeWTM",
        "colab": {
          "base_uri": "https://localhost:8080/"
        },
        "outputId": "40a61cd2-8f8a-4e70-ccf0-42f378b8aa3b"
      },
      "execution_count": 61,
      "outputs": [
        {
          "output_type": "stream",
          "name": "stdout",
          "text": [
            "list: [1, 2, 3, 4, 5]\n",
            "tuple: (10, 20, 30, 40, 50)\n",
            "dictionary: {'name': 'Alice', 'age': '25', 'city': 'New York'}\n"
          ]
        }
      ]
    },
    {
      "cell_type": "code",
      "source": [
        "import random\n",
        "random_numbers = [random.randint(1, 100) for _ in range(5)]\n",
        "random_numbers.sort()\n",
        "print(\"sorted random numbers:\", random_numbers)"
      ],
      "metadata": {
        "colab": {
          "base_uri": "https://localhost:8080/"
        },
        "id": "Gd6iXDvahI__",
        "outputId": "4aaf1dd9-ff6d-409f-cf38-5613b34eefe1"
      },
      "execution_count": 67,
      "outputs": [
        {
          "output_type": "stream",
          "name": "stdout",
          "text": [
            "sorted random numbers: [6, 59, 61, 69, 81]\n"
          ]
        }
      ]
    },
    {
      "cell_type": "code",
      "source": [
        "my_list = [\"apple\", \"banana\", \"cherry\", \"date\", \"elderberry\"]\n",
        "print(\"Element at index 3:\", my_list[3])"
      ],
      "metadata": {
        "colab": {
          "base_uri": "https://localhost:8080/"
        },
        "id": "T3vVR6quh80t",
        "outputId": "56fd5973-29d3-47ef-b9c6-0539d157d93b"
      },
      "execution_count": 70,
      "outputs": [
        {
          "output_type": "stream",
          "name": "stdout",
          "text": [
            "Element at index 3: date\n"
          ]
        }
      ]
    },
    {
      "cell_type": "code",
      "source": [
        "dict1 = {\"name\": \"Alice\", \"age\": 25}\n",
        "dict2 = {\"city\": \"New York\", \"country\": \"USA\"}\n",
        "combined_dict = {**dict1, **dict2}\n",
        "print(combined_dict)"
      ],
      "metadata": {
        "colab": {
          "base_uri": "https://localhost:8080/"
        },
        "id": "mZT1AIGXjv2Y",
        "outputId": "c3a62949-d2d8-4200-a697-e8c54e61a373"
      },
      "execution_count": 71,
      "outputs": [
        {
          "output_type": "stream",
          "name": "stdout",
          "text": [
            "{'name': 'Alice', 'age': 25, 'city': 'New York', 'country': 'USA'}\n"
          ]
        }
      ]
    },
    {
      "cell_type": "code",
      "source": [
        "my_list = [\"apple\", \"banana\", \"cherry\", \"apple\", \"banana\"]\n",
        "my_set = set(my_list)\n",
        "print(\"converted set:\", my_set)"
      ],
      "metadata": {
        "colab": {
          "base_uri": "https://localhost:8080/"
        },
        "id": "Ts7UWRhgkTBe",
        "outputId": "2543fcf6-ce74-472a-ccaf-c9691f27ff25"
      },
      "execution_count": 72,
      "outputs": [
        {
          "output_type": "stream",
          "name": "stdout",
          "text": [
            "converted set: {'apple', 'cherry', 'banana'}\n"
          ]
        }
      ]
    }
  ]
}